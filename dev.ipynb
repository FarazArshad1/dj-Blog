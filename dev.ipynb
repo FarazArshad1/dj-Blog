{
 "cells": [
  {
   "cell_type": "code",
   "execution_count": null,
   "metadata": {},
   "outputs": [],
   "source": [
    "from django.db import models\n",
    "from django.utils import timezone"
   ]
  },
  {
   "cell_type": "code",
   "execution_count": null,
   "metadata": {},
   "outputs": [],
   "source": [
    "class PublishedManager(models.Manager):\n",
    "    def get_queryset(self):\n",
    "        return super().get_queryset().filter(status = Post.Status)"
   ]
  },
  {
   "cell_type": "code",
   "execution_count": null,
   "metadata": {},
   "outputs": [],
   "source": [
    "class Post(models.Model):\n",
    "\n",
    "    class Status(models.TextChoices):\n",
    "        DRAFT = 'DF','Draft'\n",
    "        PUBLISHED = 'PB','Published'\n",
    "\n",
    "    title = models.CharField(max_length=255)\n",
    "    slug = models.SlugField(max_length=255)\n",
    "    author = models.ForeignKey(\n",
    "        settings.AUTH_USER_MODEL,\n",
    "        on_delete=models.CASCADE,\n",
    "        related_name='blog_posts'\n",
    "    )\n",
    "    body = models.TextField()\n",
    "    publish = models.DateTimeField(default=timezone.now)\n",
    "    created = models.DateTimeField(auto_now_add=True)\n",
    "    status = models.CharField(\n",
    "        max_length=2,\n",
    "        choices=Status,\n",
    "        default=Status.DRAFT\n",
    "    )\n",
    "\n",
    "    objects = models.Manager()\n",
    "    publihed = PublishedManager()\n",
    "\n",
    "\n",
    "    class Meta:\n",
    "        ordering = ['-publish']\n",
    "        indexes = [\n",
    "            models.Index(fields=['-publish'])\n",
    "        ]\n",
    "\n",
    "    def __str__(self):\n",
    "        return self.title"
   ]
  }
 ],
 "metadata": {
  "kernelspec": {
   "display_name": ".venv",
   "language": "python",
   "name": "python3"
  },
  "language_info": {
   "name": "python",
   "version": "3.11.0"
  }
 },
 "nbformat": 4,
 "nbformat_minor": 2
}
